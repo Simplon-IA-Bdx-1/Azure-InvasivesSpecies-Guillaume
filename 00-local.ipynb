{
 "cells": [
  {
   "cell_type": "markdown",
   "metadata": {
    "toc": true
   },
   "source": [
    "<h1>Table of Contents<span class=\"tocSkip\"></span></h1>\n",
    "<div class=\"toc\"><ul class=\"toc-item\"></ul></div>"
   ]
  },
  {
   "cell_type": "code",
   "execution_count": 1,
   "metadata": {},
   "outputs": [],
   "source": [
    "import pandas as pd\n",
    "from pandas import DataFrame\n",
    "from os import path\n",
    "from sklearn.model_selection import train_test_split\n",
    "from tensorflow.keras.preprocessing.image import ImageDataGenerator\n",
    "import matplotlib.pyplot as plt"
   ]
  },
  {
   "cell_type": "code",
   "execution_count": 2,
   "metadata": {},
   "outputs": [],
   "source": [
    "train_dir = \"./train_dataset\"\n",
    "test_dir = \"./test_dataset\"\n",
    "label_filename = path.join(train_dir, \"train_labels.csv\")\n",
    "train_img_dir = path.join(train_dir,\"train\")\n",
    "test_img_dir = path.join(test_dir,\"test\")"
   ]
  },
  {
   "cell_type": "code",
   "execution_count": 3,
   "metadata": {},
   "outputs": [],
   "source": [
    "labels = pd.read_csv(label_filename, index_col=0)\n",
    "labels['filename'] = labels.index.astype(str) + \".jpg\"\n",
    "#labels['filename'] = labels.apply(lambda row: path.join(dataset, row.name.astype(str)+\".jpg\"), axis=1)"
   ]
  },
  {
   "cell_type": "code",
   "execution_count": 4,
   "metadata": {},
   "outputs": [
    {
     "data": {
      "text/html": [
       "<div>\n",
       "<style scoped>\n",
       "    .dataframe tbody tr th:only-of-type {\n",
       "        vertical-align: middle;\n",
       "    }\n",
       "\n",
       "    .dataframe tbody tr th {\n",
       "        vertical-align: top;\n",
       "    }\n",
       "\n",
       "    .dataframe thead th {\n",
       "        text-align: right;\n",
       "    }\n",
       "</style>\n",
       "<table border=\"1\" class=\"dataframe\">\n",
       "  <thead>\n",
       "    <tr style=\"text-align: right;\">\n",
       "      <th></th>\n",
       "      <th>invasive</th>\n",
       "      <th>filename</th>\n",
       "    </tr>\n",
       "    <tr>\n",
       "      <th>name</th>\n",
       "      <th></th>\n",
       "      <th></th>\n",
       "    </tr>\n",
       "  </thead>\n",
       "  <tbody>\n",
       "    <tr>\n",
       "      <th>1</th>\n",
       "      <td>0</td>\n",
       "      <td>1.jpg</td>\n",
       "    </tr>\n",
       "    <tr>\n",
       "      <th>2</th>\n",
       "      <td>0</td>\n",
       "      <td>2.jpg</td>\n",
       "    </tr>\n",
       "    <tr>\n",
       "      <th>3</th>\n",
       "      <td>1</td>\n",
       "      <td>3.jpg</td>\n",
       "    </tr>\n",
       "    <tr>\n",
       "      <th>4</th>\n",
       "      <td>0</td>\n",
       "      <td>4.jpg</td>\n",
       "    </tr>\n",
       "    <tr>\n",
       "      <th>5</th>\n",
       "      <td>1</td>\n",
       "      <td>5.jpg</td>\n",
       "    </tr>\n",
       "  </tbody>\n",
       "</table>\n",
       "</div>"
      ],
      "text/plain": [
       "      invasive filename\n",
       "name                   \n",
       "1            0    1.jpg\n",
       "2            0    2.jpg\n",
       "3            1    3.jpg\n",
       "4            0    4.jpg\n",
       "5            1    5.jpg"
      ]
     },
     "execution_count": 4,
     "metadata": {},
     "output_type": "execute_result"
    }
   ],
   "source": [
    "labels.head()"
   ]
  },
  {
   "cell_type": "code",
   "execution_count": 5,
   "metadata": {},
   "outputs": [],
   "source": [
    "SEED=42\n",
    "TARGET_SIZE=(128,128)\n",
    "BATCHSIZE = 32"
   ]
  },
  {
   "cell_type": "code",
   "execution_count": 6,
   "metadata": {},
   "outputs": [],
   "source": [
    "labels_train,labels_valid = train_test_split(labels, test_size=0.2, random_state=SEED)"
   ]
  },
  {
   "cell_type": "code",
   "execution_count": 7,
   "metadata": {},
   "outputs": [
    {
     "name": "stdout",
     "output_type": "stream",
     "text": [
      "Found 1836 validated image filenames.\n",
      "Found 459 validated image filenames.\n",
      "Found 1836 validated image filenames.\n"
     ]
    }
   ],
   "source": [
    "train_datagen = ImageDataGenerator(horizontal_flip=True,\n",
    "                                   rotation_range=10,\n",
    "                                   width_shift_range=0.1,\n",
    "                                   height_shift_range=0.1,\n",
    "                                   shear_range=0.05,\n",
    "                                   zoom_range=[0.7,0.9],\n",
    "                                   rescale=1./255)\n",
    "valid_datagen = ImageDataGenerator(rescale=1./255)\n",
    "train_datagen_noaugment = ImageDataGenerator(rescale=1./255)\n",
    "options = {'directory': train_img_dir,\n",
    "           'x_col': \"filename\",\n",
    "           'y_col': \"invasive\",\n",
    "           'batchsize': BATCHSIZE,\n",
    "           'class_mode': \"raw\",  \n",
    "           'target_size': TARGET_SIZE,\n",
    "           'seed': SEED\n",
    "          }\n",
    "\n",
    "train_generator = train_datagen.flow_from_dataframe(dataframe=labels_train, shuffle=True, **options)\n",
    "valid_generator = train_datagen.flow_from_dataframe(dataframe=labels_valid, shuffle=False, **options)\n",
    "noaugment_generator = train_datagen_noaugment.flow_from_dataframe(dataframe=labels_train, shuffle=False, **options)"
   ]
  },
  {
   "cell_type": "code",
   "execution_count": null,
   "metadata": {
    "deletable": false,
    "editable": false,
    "run_control": {
     "frozen": true
    }
   },
   "outputs": [],
   "source": [
    "image = next(train_generator)[0]\n",
    "\n",
    "plt.figure(figsize=(10,8))\n",
    "for i in range(3):\n",
    "    for j in range(3):\n",
    "        idx = 3*i+j\n",
    "        plt.subplot(3,3,idx+1)\n",
    "        plt.imshow(image[idx])\n",
    "plt.show()"
   ]
  },
  {
   "cell_type": "code",
   "execution_count": 8,
   "metadata": {},
   "outputs": [],
   "source": [
    "from tensorflow.keras.layers import Dense, Activation, Input, Conv2D, MaxPooling2D, Flatten, GlobalMaxPooling2D, Dropout\n",
    "from tensorflow.keras.models import Sequential\n",
    "from tensorflow.keras.optimizers import SGD,RMSprop,Adam\n",
    "from tensorflow.keras.metrics import AUC"
   ]
  },
  {
   "cell_type": "code",
   "execution_count": 9,
   "metadata": {},
   "outputs": [],
   "source": [
    "def build_model(size=(64,64)):\n",
    "    return Sequential([\n",
    "        Input(shape=(size[0],size[1],3)),\n",
    "        Conv2D(16,(3,3)),\n",
    "        Activation('relu'),\n",
    "        MaxPooling2D(pool_size=(2,2)),\n",
    "        Conv2D(32,(3,3)),\n",
    "        Activation('relu'),\n",
    "        MaxPooling2D(pool_size=(2,2)),\n",
    "        Conv2D(64,(3,3)),\n",
    "        Activation('relu'),\n",
    "        MaxPooling2D(pool_size=(2,2)),\n",
    "        Conv2D(128,(3,3)),\n",
    "        Activation('relu'),\n",
    "        GlobalMaxPooling2D(),\n",
    "        Dropout(rate=0.2),\n",
    "        Dense(16),\n",
    "        Activation('relu'),\n",
    "        Dense(1),\n",
    "        Activation('sigmoid')\n",
    "    ])"
   ]
  },
  {
   "cell_type": "code",
   "execution_count": 10,
   "metadata": {},
   "outputs": [],
   "source": [
    "model = build_model(size=TARGET_SIZE)"
   ]
  },
  {
   "cell_type": "code",
   "execution_count": 9,
   "metadata": {},
   "outputs": [],
   "source": [
    "loss='binary_crossentropy'\n",
    "metrics=[AUC()]\n",
    "LEARNING_RATE = 0.01\n",
    "EPOCHS = 30"
   ]
  },
  {
   "cell_type": "code",
   "execution_count": 11,
   "metadata": {},
   "outputs": [
    {
     "name": "stdout",
     "output_type": "stream",
     "text": [
      "Model: \"sequential_1\"\n",
      "_________________________________________________________________\n",
      "Layer (type)                 Output Shape              Param #   \n",
      "=================================================================\n",
      "conv2d_4 (Conv2D)            (None, 94, 94, 16)        448       \n",
      "_________________________________________________________________\n",
      "activation_6 (Activation)    (None, 94, 94, 16)        0         \n",
      "_________________________________________________________________\n",
      "max_pooling2d_3 (MaxPooling2 (None, 47, 47, 16)        0         \n",
      "_________________________________________________________________\n",
      "conv2d_5 (Conv2D)            (None, 45, 45, 32)        4640      \n",
      "_________________________________________________________________\n",
      "activation_7 (Activation)    (None, 45, 45, 32)        0         \n",
      "_________________________________________________________________\n",
      "max_pooling2d_4 (MaxPooling2 (None, 22, 22, 32)        0         \n",
      "_________________________________________________________________\n",
      "conv2d_6 (Conv2D)            (None, 20, 20, 64)        18496     \n",
      "_________________________________________________________________\n",
      "activation_8 (Activation)    (None, 20, 20, 64)        0         \n",
      "_________________________________________________________________\n",
      "max_pooling2d_5 (MaxPooling2 (None, 10, 10, 64)        0         \n",
      "_________________________________________________________________\n",
      "conv2d_7 (Conv2D)            (None, 8, 8, 128)         73856     \n",
      "_________________________________________________________________\n",
      "activation_9 (Activation)    (None, 8, 8, 128)         0         \n",
      "_________________________________________________________________\n",
      "global_max_pooling2d_1 (Glob (None, 128)               0         \n",
      "_________________________________________________________________\n",
      "dropout_1 (Dropout)          (None, 128)               0         \n",
      "_________________________________________________________________\n",
      "dense_2 (Dense)              (None, 16)                2064      \n",
      "_________________________________________________________________\n",
      "activation_10 (Activation)   (None, 16)                0         \n",
      "_________________________________________________________________\n",
      "dense_3 (Dense)              (None, 1)                 17        \n",
      "_________________________________________________________________\n",
      "activation_11 (Activation)   (None, 1)                 0         \n",
      "=================================================================\n",
      "Total params: 99,521\n",
      "Trainable params: 99,521\n",
      "Non-trainable params: 0\n",
      "_________________________________________________________________\n"
     ]
    }
   ],
   "source": [
    "model = build_model(size=TARGET_SIZE)\n",
    "model.compile(loss=loss, optimizer='adamax', metrics=metrics)\n",
    "model.summary()"
   ]
  },
  {
   "cell_type": "code",
   "execution_count": 12,
   "metadata": {},
   "outputs": [
    {
     "name": "stdout",
     "output_type": "stream",
     "text": [
      "WARNING:tensorflow:From <ipython-input-12-f0bac0fd4fa4>:1: Model.fit_generator (from tensorflow.python.keras.engine.training) is deprecated and will be removed in a future version.\n",
      "Instructions for updating:\n",
      "Please use Model.fit, which supports generators.\n",
      "WARNING:tensorflow:sample_weight modes were coerced from\n",
      "  ...\n",
      "    to  \n",
      "  ['...']\n",
      "WARNING:tensorflow:sample_weight modes were coerced from\n",
      "  ...\n",
      "    to  \n",
      "  ['...']\n",
      "Train for 58 steps, validate for 15 steps\n",
      "Epoch 1/5\n",
      "58/58 [==============================] - 34s 589ms/step - loss: 0.6480 - auc: 0.5959 - val_loss: 0.6107 - val_auc: 0.8325\n",
      "Epoch 2/5\n",
      "58/58 [==============================] - 32s 555ms/step - loss: 0.5870 - auc: 0.7552 - val_loss: 0.5721 - val_auc: 0.7674\n",
      "Epoch 3/5\n",
      "58/58 [==============================] - 33s 572ms/step - loss: 0.5645 - auc: 0.7627 - val_loss: 0.5279 - val_auc: 0.8376\n",
      "Epoch 4/5\n",
      "58/58 [==============================] - 32s 554ms/step - loss: 0.5384 - auc: 0.8066 - val_loss: 0.5345 - val_auc: 0.8238\n",
      "Epoch 5/5\n",
      "58/58 [==============================] - 32s 544ms/step - loss: 0.5004 - auc: 0.8396 - val_loss: 0.4300 - val_auc: 0.9087\n"
     ]
    }
   ],
   "source": [
    "history = model.fit_generator(train_generator, epochs=EPOCHS, validation_data=valid_generator, verbose=1)"
   ]
  },
  {
   "cell_type": "code",
   "execution_count": 11,
   "metadata": {},
   "outputs": [],
   "source": [
    "# def plot_history(history):\n",
    "#     pd.DataFrame(history.history).plot(figsize=(8, 5))#, logy=True)\n",
    "#     plt.grid(True)\n",
    "#     #plt.gca().set_ylim(0, 1)\n",
    "#     plt.title('Model performance throughout training')\n",
    "#     plt.ylabel('Loss')\n",
    "#     plt.xlabel('epoch')\n",
    "#     plt.show()\n",
    "    \n",
    "def plot_history(history, metrics=['loss'], val=False, shape=None, logy=False):\n",
    "    fig = plt.figure(figsize=(15,8))\n",
    "    if not isinstance(logy, list):\n",
    "        logy = [logy] * len(metrics)\n",
    "    df = DataFrame(history.history)\n",
    "    if shape is None:\n",
    "        shape = (1,len(metrics))\n",
    "    \n",
    "    for i, metric in enumerate(metrics):\n",
    "        cols = [metric]\n",
    "        if val:\n",
    "            cols.append('val_' + metric)\n",
    "        ax = fig.add_subplot(shape[0],shape[1],i+1)\n",
    "        df[cols].plot(ax=ax, logy=logy[i])\n",
    "        ax.grid(True)\n",
    "        ax.set_title(f'Model performance throughout training ({metric})')\n",
    "        ax.set_xlabel('epoch')\n",
    "    return fig"
   ]
  },
  {
   "cell_type": "code",
   "execution_count": 29,
   "metadata": {},
   "outputs": [
    {
     "data": {
      "image/png": "[encoded data removed]",
      "text/plain": [
       "<Figure size 1080x576 with 2 Axes>"
      ]
     },
     "metadata": {
      "needs_background": "light"
     },
     "output_type": "display_data"
    }
   ],
   "source": [
    "plot_history(history, val=True, metrics=['loss', 'auc']);"
   ]
  },
  {
   "cell_type": "code",
   "execution_count": 15,
   "metadata": {},
   "outputs": [
    {
     "name": "stdout",
     "output_type": "stream",
     "text": [
      "WARNING:tensorflow:From <ipython-input-15-93c54e67dcb6>:2: Model.predict_generator (from tensorflow.python.keras.engine.training) is deprecated and will be removed in a future version.\n",
      "Instructions for updating:\n",
      "Please use Model.predict, which supports generators.\n"
     ]
    }
   ],
   "source": [
    "y_valid = labels_valid['invasive']\n",
    "y_pred_valid = model.predict_generator(valid_generator)"
   ]
  },
  {
   "cell_type": "code",
   "execution_count": 16,
   "metadata": {},
   "outputs": [
    {
     "data": {
      "text/plain": [
       "((459,), (459, 1))"
      ]
     },
     "execution_count": 16,
     "metadata": {},
     "output_type": "execute_result"
    }
   ],
   "source": [
    "y_valid.shape, y_pred_valid.shape"
   ]
  },
  {
   "cell_type": "code",
   "execution_count": 17,
   "metadata": {},
   "outputs": [],
   "source": [
    "from tensorflow import math\n",
    "import seaborn as sns\n",
    "from sklearn.metrics import roc_curve, auc, accuracy_score"
   ]
  },
  {
   "cell_type": "code",
   "execution_count": 10,
   "metadata": {},
   "outputs": [],
   "source": [
    "def plot_roc_curve(fpr, tpr, thresholds):\n",
    "    fig = plt.figure(figsize=(14,6))\n",
    "    plt.plot(fpr, tpr, label='ROC curve')\n",
    "    plt.plot([0, 1], [0, 1], 'k--', label='Random guess')\n",
    "    plt.plot(fpr, thresholds, 'r--', label='threshold')\n",
    "    plt.xlabel('False Positive Rate')\n",
    "    plt.ylabel('True Positive Rate')\n",
    "    plt.title('ROC Curve')\n",
    "    plt.xlim([-0.02, 1])\n",
    "    plt.ylim([0, 1.02])\n",
    "\n",
    "    plt.legend(loc=\"lower right\")\n",
    "    #return fig"
   ]
  },
  {
   "cell_type": "code",
   "execution_count": 59,
   "metadata": {
    "scrolled": false
   },
   "outputs": [
    {
     "data": {
      "image/png": "[encoded data removed]",
      "text/plain": [
       "<Figure size 1008x432 with 1 Axes>"
      ]
     },
     "metadata": {
      "needs_background": "light"
     },
     "output_type": "display_data"
    },
    {
     "name": "stdout",
     "output_type": "stream",
     "text": [
      "AUC: 0.9003248488835889\n"
     ]
    }
   ],
   "source": [
    "fpr, tpr, thresholds = roc_curve(y_valid, y_pred_valid)\n",
    "plot_roc_curve(fpr, tpr, thresholds)\n",
    "plt.show()\n",
    "print(f\"AUC: {auc(fpr, tpr)}\")"
   ]
  },
  {
   "cell_type": "code",
   "execution_count": null,
   "metadata": {},
   "outputs": [],
   "source": [
    "y_pred_train = model.predict_generator(noaugment_generator)"
   ]
  },
  {
   "cell_type": "code",
   "execution_count": null,
   "metadata": {
    "scrolled": true
   },
   "outputs": [],
   "source": [
    "pred_df = pd.DataFrame()\n",
    "y_train = labels_train['invasive']\n",
    "pred_df['label'] = labels_train['invasive']\n",
    "pred_df['pred_proba'] = y_pred_train\n",
    "\n",
    "#pred_df['label'] = labels_valid['invasive']\n",
    "#pred_df['pred_proba'] = y_pred_valid\n",
    "\n",
    "pred_df = pred_df.sort_values(by='pred_proba')\n",
    "\n",
    "total=pred_df.shape[0]\n",
    "n_positive = (pred_df['label'] == 1).sum()\n",
    "n_negative = (pred_df['label'] == 0).sum()\n",
    "\n",
    "pred_df['FP'] = pred_df['label'].cumsum()\n",
    "pred_df['TP'] = n_positive - pred_df['FP']\n",
    "pred_df['TN'] = (1-pred_df['label']).cumsum() \n",
    "pred_df['FN'] = n_negative - pred_df['TN']\n",
    "\n",
    "total=pred_df.shape[0]\n",
    "\n",
    "pred_df['accuracy'] = (pred_df['TN'] + pred_df['TP'])/total\n",
    "\n",
    "pred_df = pred_df.reset_index()\n",
    "\n",
    "idx_max = pred_df['accuracy'].idxmax()\n",
    "best_thres = (pred_df['pred_proba'][idx_max]+pred_df['pred_proba'][idx_max+1])/2\n",
    "\n",
    "best_thres = pred_df['accuracy'].sort_values().head(pred_df.shape[0]//100).mean()\n",
    "\n",
    "print(f\"Threshold: {best_thres}\")\n",
    "#print(f\"Train Accuracy: {pred_df['accuracy'][idx_max]}\")\n",
    "print(f\"Train Accuracy: {accuracy_score(y_train, (y_pred_train >=best_thres).astype(int))}\")\n",
    "print(f\"Valid Accuracy: {accuracy_score(y_valid, (y_pred_valid >=best_thres).astype(int))}\")"
   ]
  },
  {
   "cell_type": "code",
   "execution_count": null,
   "metadata": {},
   "outputs": [],
   "source": [
    "pred_df.sort_values(by='accuracy', ascending=False).head()"
   ]
  },
  {
   "cell_type": "code",
   "execution_count": null,
   "metadata": {},
   "outputs": [],
   "source": [
    "y_pred_valid_class = (y_pred_valid >= best_thres).astype(int)\n",
    "conf_matrix = math.confusion_matrix(y_valid,y_pred_valid_class>0.7)\n",
    "sns.heatmap(data=conf_matrix, annot=True, fmt=\"d\")\n",
    "plt.show()"
   ]
  },
  {
   "cell_type": "code",
   "execution_count": null,
   "metadata": {},
   "outputs": [],
   "source": []
  },
  {
   "cell_type": "code",
   "execution_count": 14,
   "metadata": {},
   "outputs": [],
   "source": [
    "from tensorflow.keras.applications.vgg16 import VGG16\n",
    "from tensorflow.keras.models import Model"
   ]
  },
  {
   "cell_type": "code",
   "execution_count": 12,
   "metadata": {},
   "outputs": [],
   "source": [
    "def build_VGG16(size=(64,64)):\n",
    "    model = VGG16(weights= 'imagenet', include_top=False, input_shape=(size[0],size[1],3))\n",
    "    \n",
    "    for layer in model.layers:\n",
    "        layer.trainable = False\n",
    "        \n",
    "    output = model.output\n",
    "    output = Flatten()(output)\n",
    "    output = Dropout(rate=0.5)(output)\n",
    "    output = Dense(128)(output)\n",
    "    output = Activation('relu')(output)\n",
    "    output = Dropout(rate=0.5)(output)\n",
    "    output = Dense(1)(output)\n",
    "    output = Activation('sigmoid')(output)\n",
    "    \n",
    "    model = Model(model.input, output)\n",
    "    return model"
   ]
  },
  {
   "cell_type": "code",
   "execution_count": 15,
   "metadata": {
    "scrolled": true
   },
   "outputs": [
    {
     "name": "stdout",
     "output_type": "stream",
     "text": [
      "Model: \"model\"\n",
      "_________________________________________________________________\n",
      "Layer (type)                 Output Shape              Param #   \n",
      "=================================================================\n",
      "input_1 (InputLayer)         [(None, 128, 128, 3)]     0         \n",
      "_________________________________________________________________\n",
      "block1_conv1 (Conv2D)        (None, 128, 128, 64)      1792      \n",
      "_________________________________________________________________\n",
      "block1_conv2 (Conv2D)        (None, 128, 128, 64)      36928     \n",
      "_________________________________________________________________\n",
      "block1_pool (MaxPooling2D)   (None, 64, 64, 64)        0         \n",
      "_________________________________________________________________\n",
      "block2_conv1 (Conv2D)        (None, 64, 64, 128)       73856     \n",
      "_________________________________________________________________\n",
      "block2_conv2 (Conv2D)        (None, 64, 64, 128)       147584    \n",
      "_________________________________________________________________\n",
      "block2_pool (MaxPooling2D)   (None, 32, 32, 128)       0         \n",
      "_________________________________________________________________\n",
      "block3_conv1 (Conv2D)        (None, 32, 32, 256)       295168    \n",
      "_________________________________________________________________\n",
      "block3_conv2 (Conv2D)        (None, 32, 32, 256)       590080    \n",
      "_________________________________________________________________\n",
      "block3_conv3 (Conv2D)        (None, 32, 32, 256)       590080    \n",
      "_________________________________________________________________\n",
      "block3_pool (MaxPooling2D)   (None, 16, 16, 256)       0         \n",
      "_________________________________________________________________\n",
      "block4_conv1 (Conv2D)        (None, 16, 16, 512)       1180160   \n",
      "_________________________________________________________________\n",
      "block4_conv2 (Conv2D)        (None, 16, 16, 512)       2359808   \n",
      "_________________________________________________________________\n",
      "block4_conv3 (Conv2D)        (None, 16, 16, 512)       2359808   \n",
      "_________________________________________________________________\n",
      "block4_pool (MaxPooling2D)   (None, 8, 8, 512)         0         \n",
      "_________________________________________________________________\n",
      "block5_conv1 (Conv2D)        (None, 8, 8, 512)         2359808   \n",
      "_________________________________________________________________\n",
      "block5_conv2 (Conv2D)        (None, 8, 8, 512)         2359808   \n",
      "_________________________________________________________________\n",
      "block5_conv3 (Conv2D)        (None, 8, 8, 512)         2359808   \n",
      "_________________________________________________________________\n",
      "block5_pool (MaxPooling2D)   (None, 4, 4, 512)         0         \n",
      "_________________________________________________________________\n",
      "flatten (Flatten)            (None, 8192)              0         \n",
      "_________________________________________________________________\n",
      "dropout (Dropout)            (None, 8192)              0         \n",
      "_________________________________________________________________\n",
      "dense (Dense)                (None, 128)               1048704   \n",
      "_________________________________________________________________\n",
      "activation (Activation)      (None, 128)               0         \n",
      "_________________________________________________________________\n",
      "dropout_1 (Dropout)          (None, 128)               0         \n",
      "_________________________________________________________________\n",
      "dense_1 (Dense)              (None, 1)                 129       \n",
      "_________________________________________________________________\n",
      "activation_1 (Activation)    (None, 1)                 0         \n",
      "=================================================================\n",
      "Total params: 15,763,521\n",
      "Trainable params: 1,048,833\n",
      "Non-trainable params: 14,714,688\n",
      "_________________________________________________________________\n"
     ]
    }
   ],
   "source": [
    "model = build_VGG16(TARGET_SIZE)\n",
    "model.compile(loss=loss, optimizer='adamax', metrics=metrics)\n",
    "model.summary()"
   ]
  },
  {
   "cell_type": "code",
   "execution_count": null,
   "metadata": {},
   "outputs": [
    {
     "name": "stdout",
     "output_type": "stream",
     "text": [
      "WARNING:tensorflow:From <ipython-input-16-7c57bd35a30e>:2: Model.fit_generator (from tensorflow.python.keras.engine.training) is deprecated and will be removed in a future version.\n",
      "Instructions for updating:\n",
      "Please use Model.fit, which supports generators.\n",
      "WARNING:tensorflow:sample_weight modes were coerced from\n",
      "  ...\n",
      "    to  \n",
      "  ['...']\n",
      "WARNING:tensorflow:sample_weight modes were coerced from\n",
      "  ...\n",
      "    to  \n",
      "  ['...']\n",
      "Train for 58 steps, validate for 15 steps\n",
      "Epoch 1/10\n",
      "58/58 [==============================] - 118s 2s/step - loss: 0.5574 - auc: 0.7786 - val_loss: 0.3745 - val_auc: 0.9196\n",
      "Epoch 2/10\n",
      "58/58 [==============================] - 119s 2s/step - loss: 0.3983 - auc: 0.8917 - val_loss: 0.3078 - val_auc: 0.9328\n",
      "Epoch 3/10\n",
      "58/58 [==============================] - 117s 2s/step - loss: 0.3752 - auc: 0.9056 - val_loss: 0.2953 - val_auc: 0.9411\n",
      "Epoch 4/10\n",
      "58/58 [==============================] - 118s 2s/step - loss: 0.3475 - auc: 0.9187 - val_loss: 0.3003 - val_auc: 0.9392\n",
      "Epoch 5/10\n",
      "58/58 [==============================] - 125s 2s/step - loss: 0.3407 - auc: 0.9213 - val_loss: 0.2698 - val_auc: 0.9537\n",
      "Epoch 6/10\n",
      "58/58 [==============================] - 122s 2s/step - loss: 0.3393 - auc: 0.9235 - val_loss: 0.2887 - val_auc: 0.9451\n",
      "Epoch 7/10\n",
      "54/58 [==========================>...] - ETA: 6s - loss: 0.3316 - auc: 0.9265"
     ]
    }
   ],
   "source": [
    "EPOCHS = 10\n",
    "history = model.fit_generator(train_generator, epochs=EPOCHS, validation_data=valid_generator, verbose=1)"
   ]
  },
  {
   "cell_type": "code",
   "execution_count": null,
   "metadata": {},
   "outputs": [],
   "source": [
    "plot_history(history, metrics=['loss', 'auc'], val=True)"
   ]
  },
  {
   "cell_type": "code",
   "execution_count": null,
   "metadata": {},
   "outputs": [],
   "source": [
    "y_valid = labels_valid['invasive']\n",
    "y_pred_valid = model.predict_generator(valid_generator)"
   ]
  },
  {
   "cell_type": "code",
   "execution_count": null,
   "metadata": {},
   "outputs": [],
   "source": [
    "fpr, tpr, thresholds = roc_curve(y_valid, y_pred_valid)\n",
    "print_roc_curve(fpr, tpr, thresholds)\n",
    "print(f\"AUC: {auc(fpr, tpr)}\")"
   ]
  },
  {
   "cell_type": "code",
   "execution_count": null,
   "metadata": {},
   "outputs": [],
   "source": [
    "from tensorflow.keras.applications.inception_v3 import InceptionV3"
   ]
  },
  {
   "cell_type": "code",
   "execution_count": null,
   "metadata": {},
   "outputs": [],
   "source": [
    "def build_InceptionV3(size=(64,64)):\n",
    "    model = InceptionV3(weights= 'imagenet', include_top=False, input_shape=(size[0],size[1],3))\n",
    "    \n",
    "    for layer in model.layers:\n",
    "        layer.trainable = False\n",
    "        \n",
    "    output = model.output\n",
    "    output = Flatten()(output)\n",
    "    output = Dropout(rate=0.3)(output)\n",
    "    output = Dense(128)(output)\n",
    "    output = Activation('relu')(output)\n",
    "    output = Dense(1)(output)\n",
    "    output = Activation('sigmoid')(output)\n",
    "    \n",
    "    model = Model(model.input, output)\n",
    "    return model"
   ]
  },
  {
   "cell_type": "code",
   "execution_count": null,
   "metadata": {},
   "outputs": [],
   "source": [
    "model = build_InceptionV3(TARGET_SIZE)\n",
    "model.compile(loss=loss, optimizer='adamax', metrics=metrics)\n",
    "model.summary()"
   ]
  },
  {
   "cell_type": "code",
   "execution_count": null,
   "metadata": {},
   "outputs": [],
   "source": [
    "EPOCHS = 10\n",
    "history = model.fit_generator(train_generator, epochs=EPOCHS, validation_data=valid_generator, verbose=1)"
   ]
  },
  {
   "cell_type": "code",
   "execution_count": null,
   "metadata": {},
   "outputs": [],
   "source": [
    "plot_history(history, metrics=['loss', 'auc'], val=True)\n",
    "y_valid = labels_valid['invasive']\n",
    "y_pred_valid = model.predict_generator(valid_generator)\n",
    "fpr, tpr, thresholds = roc_curve(y_valid, y_pred_valid)\n",
    "print_roc_curve(fpr, tpr, thresholds)\n",
    "print(f\"AUC: {auc(fpr, tpr)}\")"
   ]
  }
 ],
 "metadata": {
  "kernelspec": {
   "display_name": "Python 3",
   "language": "python",
   "name": "python3"
  },
  "language_info": {
   "codemirror_mode": {
    "name": "ipython",
    "version": 3
   },
   "file_extension": ".py",
   "mimetype": "text/x-python",
   "name": "python",
   "nbconvert_exporter": "python",
   "pygments_lexer": "ipython3",
   "version": "3.7.6"
  },
  "toc": {
   "base_numbering": 1,
   "nav_menu": {},
   "number_sections": true,
   "sideBar": true,
   "skip_h1_title": false,
   "title_cell": "Table of Contents",
   "title_sidebar": "Contents",
   "toc_cell": true,
   "toc_position": {},
   "toc_section_display": true,
   "toc_window_display": true
  }
 },
 "nbformat": 4,
 "nbformat_minor": 2
}
