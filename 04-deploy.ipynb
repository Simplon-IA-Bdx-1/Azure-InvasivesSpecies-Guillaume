{
 "cells": [
  {
   "cell_type": "markdown",
   "metadata": {
    "toc": true
   },
   "source": [
    "<h1>Table of Contents<span class=\"tocSkip\"></span></h1>\n",
    "<div class=\"toc\"><ul class=\"toc-item\"></ul></div>"
   ]
  },
  {
   "cell_type": "code",
   "execution_count": 1,
   "metadata": {},
   "outputs": [],
   "source": [
    "from azureml.core.workspace import Workspace\n",
    "from azureml.core.model import Model\n",
    "from azureml.core.conda_dependencies import CondaDependencies \n",
    "from azureml.core.image import ContainerImage\n",
    "from azureml.core.webservice import AciWebservice, Webservice, AksWebservice\n",
    "from azureml.core.compute import AksCompute, ComputeTarget\n",
    "from azureml.exceptions import ComputeTargetException\n",
    "from azureml.core.model import InferenceConfig\n",
    "import os"
   ]
  },
  {
   "cell_type": "code",
   "execution_count": 6,
   "metadata": {},
   "outputs": [],
   "source": [
    "inference_dir = './inference'"
   ]
  },
  {
   "cell_type": "code",
   "execution_count": 3,
   "metadata": {},
   "outputs": [],
   "source": [
    "ws = Workspace.from_config()"
   ]
  },
  {
   "cell_type": "code",
   "execution_count": 4,
   "metadata": {},
   "outputs": [],
   "source": [
    "models = Model.list(ws)"
   ]
  },
  {
   "cell_type": "code",
   "execution_count": 19,
   "metadata": {},
   "outputs": [
    {
     "data": {
      "text/plain": [
       "Model(workspace=Workspace.create(name='Invasive', subscription_id='68bdd703-8837-469c-80bd-bfb35f3b886f', resource_group='ProjectGroup2'), name=InvasiveCNN, id=InvasiveCNN:2, version=2, tags={'AUC': '0.9659936675027756', 'transfer-learning': 'false', 'image_size': '(128, 128)', 'batch_size': '32', 'epochs': '30'}, properties={})"
      ]
     },
     "execution_count": 19,
     "metadata": {},
     "output_type": "execute_result"
    }
   ],
   "source": [
    "auc=0\n",
    "for model in models:\n",
    "    if float(model.tags['AUC']) > auc:\n",
    "        auc = float(model.tags['AUC'])\n",
    "        best_model = model\n",
    "best_model"
   ]
  },
  {
   "cell_type": "code",
   "execution_count": 27,
   "metadata": {},
   "outputs": [],
   "source": [
    "model_info = best_model.tags\n",
    "model_info['name'] = best_model.name\n",
    "model_info['version'] = best_model.version"
   ]
  },
  {
   "cell_type": "code",
   "execution_count": 28,
   "metadata": {},
   "outputs": [],
   "source": [
    "import json\n",
    "with open(os.path.join(inference_dir,'model_tags.json'), 'w') as file:\n",
    "    json.dump(model_info, file)"
   ]
  },
  {
   "cell_type": "code",
   "execution_count": 96,
   "metadata": {},
   "outputs": [],
   "source": [
    "myenv = CondaDependencies()\n",
    "myenv.add_conda_package(\"numpy\")\n",
    "#myenv.add_pip_package(\"opencv-python\")\n",
    "myenv.add_pip_package(\"tensorflow==2.2.0\")\n",
    "myenv.add_pip_package(\"pillow\")\n",
    "\n",
    "with open(os.path.join(inference_dir, \"Invasive.yml\"),\"w\") as f:\n",
    "    f.write(myenv.serialize_to_string())"
   ]
  },
  {
   "cell_type": "code",
   "execution_count": 97,
   "metadata": {},
   "outputs": [],
   "source": [
    "inference_config = InferenceConfig(source_directory=inference_dir,\n",
    "                                   runtime= \"python\", \n",
    "                                   entry_script='score.py',\n",
    "                                   conda_file=\"Invasive.yml\")"
   ]
  },
  {
   "cell_type": "code",
   "execution_count": 98,
   "metadata": {},
   "outputs": [],
   "source": [
    "from azureml.core.webservice import AciWebservice, Webservice, AksWebservice"
   ]
  },
  {
   "cell_type": "code",
   "execution_count": 184,
   "metadata": {},
   "outputs": [
    {
     "name": "stdout",
     "output_type": "stream",
     "text": [
      "Running............................................\n",
      "Succeeded\n",
      "ACI service creation operation finished, operation \"Succeeded\"\n",
      "Healthy\n"
     ]
    }
   ],
   "source": [
    "# Deploy to ACI\n",
    "\n",
    "aciconfig = AciWebservice.deploy_configuration(cpu_cores = 1, memory_gb = 1)\n",
    "aci_service_name = 'invasive-species-id-1'\n",
    "aci_service = Model.deploy(ws, aci_service_name, [best_model], inference_config, aciconfig)\n",
    "aci_service.wait_for_deployment(True)\n",
    "print(aci_service.state)"
   ]
  },
  {
   "cell_type": "code",
   "execution_count": 185,
   "metadata": {},
   "outputs": [
    {
     "name": "stdout",
     "output_type": "stream",
     "text": [
      "2020-05-15T13:31:38,512796545+00:00 - gunicorn/run \n",
      "2020-05-15T13:31:38,513381549+00:00 - iot-server/run \n",
      "2020-05-15T13:31:38,515438561+00:00 - rsyslog/run \n",
      "2020-05-15T13:31:38,522003500+00:00 - nginx/run \n",
      "/usr/sbin/nginx: /azureml-envs/azureml_a5f844aedbaa76f68aa8a50c193863c4/lib/libcrypto.so.1.0.0: no version information available (required by /usr/sbin/nginx)\n",
      "/usr/sbin/nginx: /azureml-envs/azureml_a5f844aedbaa76f68aa8a50c193863c4/lib/libcrypto.so.1.0.0: no version information available (required by /usr/sbin/nginx)\n",
      "/usr/sbin/nginx: /azureml-envs/azureml_a5f844aedbaa76f68aa8a50c193863c4/lib/libssl.so.1.0.0: no version information available (required by /usr/sbin/nginx)\n",
      "/usr/sbin/nginx: /azureml-envs/azureml_a5f844aedbaa76f68aa8a50c193863c4/lib/libssl.so.1.0.0: no version information available (required by /usr/sbin/nginx)\n",
      "/usr/sbin/nginx: /azureml-envs/azureml_a5f844aedbaa76f68aa8a50c193863c4/lib/libssl.so.1.0.0: no version information available (required by /usr/sbin/nginx)\n",
      "EdgeHubConnectionString and IOTEDGE_IOTHUBHOSTNAME are not set. Exiting...\n",
      "2020-05-15T13:31:38,956096402+00:00 - iot-server/finish 1 0\n",
      "2020-05-15T13:31:38,969035179+00:00 - Exit code 1 is normal. Not restarting iot-server.\n",
      "Starting gunicorn 19.9.0\n",
      "Listening at: http://127.0.0.1:31311 (11)\n",
      "Using worker: sync\n",
      "worker timeout is set to 300\n",
      "Booting worker with pid: 39\n",
      "Initialized PySpark session.\n",
      "Initializing logger\n",
      "Starting up app insights client\n",
      "Starting up request id generator\n",
      "Starting up app insight hooks\n",
      "Invoking user's init function\n",
      "2020-05-15 13:31:42.681271: W tensorflow/stream_executor/platform/default/dso_loader.cc:55] Could not load dynamic library 'libcuda.so.1'; dlerror: libcuda.so.1: cannot open shared object file: No such file or directory; LD_LIBRARY_PATH: /azureml-envs/azureml_a5f844aedbaa76f68aa8a50c193863c4/lib:/azureml-envs/azureml_a5f844aedbaa76f68aa8a50c193863c4/lib:\n",
      "2020-05-15 13:31:42.681306: E tensorflow/stream_executor/cuda/cuda_driver.cc:313] failed call to cuInit: UNKNOWN ERROR (303)\n",
      "2020-05-15 13:31:42.681331: I tensorflow/stream_executor/cuda/cuda_diagnostics.cc:156] kernel driver does not appear to be running on this host (wk-caas-28cff2ffa041482bad6ea60564cb78db-0e27f076219edd685e794a): /proc/driver/nvidia/version does not exist\n",
      "2020-05-15 13:31:42.681547: I tensorflow/core/platform/cpu_feature_guard.cc:143] Your CPU supports instructions that this TensorFlow binary was not compiled to use: AVX2 FMA\n",
      "2020-05-15 13:31:42.689333: I tensorflow/core/platform/profile_utils/cpu_utils.cc:102] CPU Frequency: 2294685000 Hz\n",
      "2020-05-15 13:31:42.690021: I tensorflow/compiler/xla/service/service.cc:168] XLA service 0x55cda3a81840 initialized for platform Host (this does not guarantee that XLA will be used). Devices:\n",
      "2020-05-15 13:31:42.690043: I tensorflow/compiler/xla/service/service.cc:176]   StreamExecutor device (0): Host, Default Version\n",
      "Working directory\n",
      "/var/azureml-app\n",
      "./azureml-models/InvasiveCNN/2\n",
      "[]\n",
      "['model']\n",
      "./azureml-models/InvasiveCNN\n",
      "['2']\n",
      "[]\n",
      "./azureml-models\n",
      "['InvasiveCNN']\n",
      "[]\n",
      "./inference/__pycache__\n",
      "[]\n",
      "['score.cpython-36.pyc']\n",
      "./inference\n",
      "['__pycache__']\n",
      "['model_tags.json', 'score.py', 'Invasive.yml']\n",
      "./__pycache__\n",
      "[]\n",
      "['main.cpython-36.pyc']\n",
      ".\n",
      "['azureml-models', 'inference', '__pycache__']\n",
      "['main.py', 'model_config_map.json']\n",
      "{'AUC': '0.9659936675027756', 'transfer-learning': 'false', 'image_size': '(128, 128)', 'batch_size': '32', 'epochs': '30', 'id': 'InvasiveCNN:2', 'name': 'InvasiveCNN', 'version': 2}\n",
      "[128, 128]\n",
      "Model dir\n",
      "azureml-models/InvasiveCNN/2\n",
      "Users's init has completed successfully\n",
      "Scoring timeout is found from os.environ: 60000 ms\n",
      "Swagger file not present\n",
      "404\n",
      "127.0.0.1 - - [15/May/2020:13:32:02 +0000] \"GET /swagger.json HTTP/1.0\" 404 19 \"-\" \"Go-http-client/1.1\"\n",
      "Swagger file not present\n",
      "404\n",
      "127.0.0.1 - - [15/May/2020:13:32:07 +0000] \"GET /swagger.json HTTP/1.0\" 404 19 \"-\" \"Go-http-client/1.1\"\n",
      "\n"
     ]
    }
   ],
   "source": [
    "print(aci_service.get_logs())"
   ]
  },
  {
   "cell_type": "code",
   "execution_count": 186,
   "metadata": {},
   "outputs": [
    {
     "name": "stdout",
     "output_type": "stream",
     "text": [
      "invasive-species-id-1\n"
     ]
    }
   ],
   "source": [
    "for webservice_name in ws.webservices:\n",
    "    print(webservice_name)"
   ]
  },
  {
   "cell_type": "code",
   "execution_count": 187,
   "metadata": {},
   "outputs": [],
   "source": [
    "#service = ws.webservices['invasive-species-id-1']\n",
    "\n",
    "aci_service.update(enable_app_insights=True)"
   ]
  },
  {
   "cell_type": "code",
   "execution_count": 188,
   "metadata": {},
   "outputs": [
    {
     "data": {
      "text/html": [
       "<div>\n",
       "<style scoped>\n",
       "    .dataframe tbody tr th:only-of-type {\n",
       "        vertical-align: middle;\n",
       "    }\n",
       "\n",
       "    .dataframe tbody tr th {\n",
       "        vertical-align: top;\n",
       "    }\n",
       "\n",
       "    .dataframe thead th {\n",
       "        text-align: right;\n",
       "    }\n",
       "</style>\n",
       "<table border=\"1\" class=\"dataframe\">\n",
       "  <thead>\n",
       "    <tr style=\"text-align: right;\">\n",
       "      <th></th>\n",
       "      <th>invasive</th>\n",
       "    </tr>\n",
       "    <tr>\n",
       "      <th>name</th>\n",
       "      <th></th>\n",
       "    </tr>\n",
       "  </thead>\n",
       "  <tbody>\n",
       "    <tr>\n",
       "      <th>1</th>\n",
       "      <td>0</td>\n",
       "    </tr>\n",
       "    <tr>\n",
       "      <th>2</th>\n",
       "      <td>0</td>\n",
       "    </tr>\n",
       "    <tr>\n",
       "      <th>3</th>\n",
       "      <td>1</td>\n",
       "    </tr>\n",
       "    <tr>\n",
       "      <th>4</th>\n",
       "      <td>0</td>\n",
       "    </tr>\n",
       "    <tr>\n",
       "      <th>5</th>\n",
       "      <td>1</td>\n",
       "    </tr>\n",
       "    <tr>\n",
       "      <th>6</th>\n",
       "      <td>0</td>\n",
       "    </tr>\n",
       "    <tr>\n",
       "      <th>7</th>\n",
       "      <td>1</td>\n",
       "    </tr>\n",
       "    <tr>\n",
       "      <th>8</th>\n",
       "      <td>1</td>\n",
       "    </tr>\n",
       "    <tr>\n",
       "      <th>9</th>\n",
       "      <td>0</td>\n",
       "    </tr>\n",
       "    <tr>\n",
       "      <th>10</th>\n",
       "      <td>0</td>\n",
       "    </tr>\n",
       "  </tbody>\n",
       "</table>\n",
       "</div>"
      ],
      "text/plain": [
       "      invasive\n",
       "name          \n",
       "1            0\n",
       "2            0\n",
       "3            1\n",
       "4            0\n",
       "5            1\n",
       "6            0\n",
       "7            1\n",
       "8            1\n",
       "9            0\n",
       "10           0"
      ]
     },
     "execution_count": 188,
     "metadata": {},
     "output_type": "execute_result"
    }
   ],
   "source": [
    "import pandas as pd\n",
    "train_dir = \"./train_dataset\"\n",
    "test_dir = \"./test_dataset\"\n",
    "label_filename = os.path.join(train_dir, \"train_labels.csv\")\n",
    "labels = pd.read_csv(label_filename, index_col=0)\n",
    "labels.head(10)"
   ]
  },
  {
   "cell_type": "code",
   "execution_count": 195,
   "metadata": {},
   "outputs": [],
   "source": [
    "import base64\n",
    "def local_image_to_string(img_path):\n",
    "    with open(img_path, \"rb\") as image_file:\n",
    "        encoded_string = base64.b64encode(image_file.read())\n",
    "    return(encoded_string)\n",
    "\n",
    "img_path = './train_dataset/train/1.jpg'\n",
    "img_str = local_image_to_string(img_path)\n",
    "\n",
    "input_data = json.dumps({'data': img_str.decode(\"utf-8\")})"
   ]
  },
  {
   "cell_type": "code",
   "execution_count": 196,
   "metadata": {},
   "outputs": [
    {
     "data": {
      "text/plain": [
       "'[[0.03900056704878807]]'"
      ]
     },
     "execution_count": 196,
     "metadata": {},
     "output_type": "execute_result"
    }
   ],
   "source": [
    "predictions = aci_service.run(input_data = input_data)\n",
    "predictions"
   ]
  },
  {
   "cell_type": "code",
   "execution_count": 197,
   "metadata": {},
   "outputs": [
    {
     "name": "stdout",
     "output_type": "stream",
     "text": [
      "prediction: \"[[0.03900056704878807]]\"\n"
     ]
    }
   ],
   "source": [
    "# Call the endpoint\n",
    "import requests\n",
    "import json\n",
    "import numpy as np\n",
    "\n",
    "headers = {'Content-Type':'application/json'}\n",
    "\n",
    "resp = requests.post(aci_service.scoring_uri, data=input_data, headers=headers)\n",
    "\n",
    "print(\"prediction:\", resp.text)"
   ]
  },
  {
   "cell_type": "code",
   "execution_count": null,
   "metadata": {},
   "outputs": [],
   "source": [
    "print(aci_service.get_logs())"
   ]
  },
  {
   "cell_type": "code",
   "execution_count": null,
   "metadata": {},
   "outputs": [],
   "source": [
    "help(aci_service)"
   ]
  },
  {
   "cell_type": "code",
   "execution_count": null,
   "metadata": {},
   "outputs": [],
   "source": [
    "Webservice(ws, aci_service_name).delete()"
   ]
  },
  {
   "cell_type": "code",
   "execution_count": null,
   "metadata": {},
   "outputs": [],
   "source": []
  }
 ],
 "metadata": {
  "kernelspec": {
   "display_name": "Python 3",
   "language": "python",
   "name": "python3"
  },
  "language_info": {
   "codemirror_mode": {
    "name": "ipython",
    "version": 3
   },
   "file_extension": ".py",
   "mimetype": "text/x-python",
   "name": "python",
   "nbconvert_exporter": "python",
   "pygments_lexer": "ipython3",
   "version": "3.7.6"
  },
  "toc": {
   "base_numbering": 1,
   "nav_menu": {},
   "number_sections": true,
   "sideBar": true,
   "skip_h1_title": false,
   "title_cell": "Table of Contents",
   "title_sidebar": "Contents",
   "toc_cell": true,
   "toc_position": {},
   "toc_section_display": true,
   "toc_window_display": true
  }
 },
 "nbformat": 4,
 "nbformat_minor": 2
}
